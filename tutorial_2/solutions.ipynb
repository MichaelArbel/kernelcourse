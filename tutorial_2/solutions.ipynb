{
 "cells": [
  {
   "cell_type": "markdown",
   "metadata": {},
   "source": [
    "# Binary classification on graph data\n",
    "The objective is to perform a binary classification task on graph data. Here each graphs describe a molecule : atoms are the nodes and have a labels that can be in 50 categories.  Links between atoms are the edges and have labels in 4 categories.\n",
    "\n",
    "\n",
    "## 0- Loading and vizualizing data"
   ]
  },
  {
   "cell_type": "code",
   "execution_count": 2,
   "metadata": {},
   "outputs": [],
   "source": [
    "from algos.kernelrr import KernelRR\n",
    "\n",
    "\n",
    "import pickle as pkl\n",
    "import numpy as np\n",
    "from sklearn.model_selection import train_test_split\n",
    "from sklearn import metrics\n",
    "import networkx as nx\n",
    "import matplotlib.pyplot as plt\n",
    "\n",
    "\n",
    "def load_data():\n",
    "    with open('data/training_data.pkl', 'rb') as file:\n",
    "        train_graphs = np.array(pkl.load(file),dtype=object)\n",
    "    with open('data/test_data.pkl', 'rb') as file:\n",
    "        test_graphs = np.array(pkl.load(file),dtype=object)\n",
    "    with open('data/training_labels.pkl', 'rb') as file:\n",
    "        train_labels = np.array(pkl.load(file))\n",
    "\n",
    "    return train_graphs, test_graphs, train_labels\n",
    "\n",
    "\n",
    "graphs, _ , labels = load_data()\n",
    "train_graphs, test_graphs, train_labels, test_labels = train_test_split(graphs, labels, test_size=0.3)\n",
    "\n",
    "\n"
   ]
  },
  {
   "cell_type": "code",
   "execution_count": 3,
   "metadata": {},
   "outputs": [
    {
     "data": {
      "image/png": "[encoded data removed]",
      "text/plain": [
       "<Figure size 640x480 with 1 Axes>"
      ]
     },
     "metadata": {},
     "output_type": "display_data"
    }
   ],
   "source": [
    "nx.draw_networkx(train_graphs[0])\n",
    "plt.show()\n"
   ]
  },
  {
   "cell_type": "code",
   "execution_count": 4,
   "metadata": {},
   "outputs": [
    {
     "data": {
      "text/plain": [
       "[1]"
      ]
     },
     "execution_count": 4,
     "metadata": {},
     "output_type": "execute_result"
    }
   ],
   "source": [
    "G = train_graphs[0]\n",
    "G.number_of_edges()\n",
    "G.nodes[0]['labels']"
   ]
  },
  {
   "cell_type": "markdown",
   "metadata": {},
   "source": [
    "## I- Predicting using a naive kernel"
   ]
  },
  {
   "cell_type": "code",
   "execution_count": 5,
   "metadata": {},
   "outputs": [],
   "source": [
    "from kernels.base_kernels import Kernel, Linear\n",
    "\n",
    "class FeatureVectorKernel(Kernel):\n",
    "    \"\"\"\n",
    "        Abstract class of kernels based on the vectorization of the graphs\n",
    "    \"\"\"\n",
    "\n",
    "    def __init__(self, vector_kernel=Linear()):\n",
    "        super().__init__()\n",
    "        self.vector_kernel = vector_kernel\n",
    "\n",
    "    def features(self, X):\n",
    "        \"\"\"\n",
    "        :param X: list of graphs\n",
    "        :return: vector of features\n",
    "        \"\"\"\n",
    "        pass\n",
    "\n",
    "    def kernel(self, X, Y):\n",
    "        return self.vector_kernel.kernel(self.features(X), self.features(Y))\n",
    "\n",
    "\n",
    "class NaiveKernel(FeatureVectorKernel):\n",
    "    \"\"\"\n",
    "        A vectorizer kernel where features are the nb of nodes and edges of the graph.\n",
    "    \"\"\"\n",
    "    def __init__(self):\n",
    "        super().__init__()\n",
    "\n",
    "    def features(self, X):\n",
    "        X_ft = np.array([(G.number_of_nodes(), G.number_of_edges()) for G in X])\n",
    "        return X_ft / np.mean(X_ft, axis=0)\n"
   ]
  },
  {
   "cell_type": "code",
   "execution_count": 6,
   "metadata": {},
   "outputs": [
    {
     "name": "stdout",
     "output_type": "stream",
     "text": [
      "Train AUC 0.6975559022738973\n",
      "Test AUC 0.7018787742525912\n"
     ]
    }
   ],
   "source": [
    "\n",
    "kernel = NaiveKernel().kernel\n",
    "\n",
    "classifier = KernelRR(lmbda=1e-4, kernel=kernel)\n",
    "\n",
    "\n",
    "### Compute predictions\n",
    "classifier.fit(train_graphs, train_labels)\n",
    "train_preds = classifier.predict(train_graphs)\n",
    "test_preds = classifier.predict(test_graphs)\n",
    "print(\"Train AUC {}\".format(metrics.roc_auc_score(train_labels, train_preds)))\n",
    "print(\"Test AUC {}\".format(metrics.roc_auc_score(test_labels, test_preds)))"
   ]
  },
  {
   "cell_type": "markdown",
   "metadata": {},
   "source": [
    "## II- Predicting using a histogram kernels"
   ]
  },
  {
   "cell_type": "markdown",
   "metadata": {},
   "source": [
    "### a) Degree histrogram kernel\n",
    "The Degree Histogram embedding is a vector whose ith component counts the number of nodes of degree i in the graph. The vector counts only nodes up to a maximal degree to keep dimension fixed. Implement the method **features** of the class **DegreeHistogramKernel** and run the code block following it. \n",
    "\n",
    "\n",
    "**Hint 1**: You can use the method G.degree(), which returns a dictionary whose keys are the nodes and values are their degrees.\n",
    "\n",
    "**Hint 2**: You can use the function np.bincount to get the counts of nodes with degrees up to a maximal size. \n"
   ]
  },
  {
   "cell_type": "code",
   "execution_count": 7,
   "metadata": {},
   "outputs": [],
   "source": [
    "class DegreeHistogramKernel(FeatureVectorKernel):\n",
    "    \"\"\"\n",
    "    A vector kernel applied to the degree histogram of the graphs.\n",
    "    \"\"\"\n",
    "    def __init__(self, max_degree=1):\n",
    "        super().__init__()\n",
    "        self.max_degree = max_degree ### \n",
    "\n",
    "    def features(self, X):\n",
    "        ### Takes a list of graphs X of size N and returns an array of shape Nx(MaxDeg+1). \n",
    "        \n",
    "        \n",
    "        return np.array([np.bincount([min(d, self.max_degree) for n, d in G.degree()], minlength=self.max_degree+1) for G in X])"
   ]
  },
  {
   "cell_type": "code",
   "execution_count": 8,
   "metadata": {},
   "outputs": [
    {
     "name": "stdout",
     "output_type": "stream",
     "text": [
      "Train AUC 0.7306243256683699\n",
      "Test AUC 0.7210401816391221\n"
     ]
    }
   ],
   "source": [
    "kernel = DegreeHistogramKernel(max_degree=5).kernel\n",
    "\n",
    "classifier = KernelRR(lmbda=1e-4, kernel=kernel)\n",
    "\n",
    "\n",
    "### Compute predictions\n",
    "classifier.fit(train_graphs, train_labels)\n",
    "train_preds = classifier.predict(train_graphs)\n",
    "test_preds = classifier.predict(test_graphs)\n",
    "print(\"Train AUC {}\".format(metrics.roc_auc_score(train_labels, train_preds)))\n",
    "print(\"Test AUC {}\".format(metrics.roc_auc_score(test_labels, test_preds)))"
   ]
  },
  {
   "cell_type": "markdown",
   "metadata": {},
   "source": [
    "### b) Edge label histrogram kernel\n",
    "The Node (resp. Label) Histogram embeddings are 50 (resp. 4) dimensional vectors whose ith component is the number of nodes (resp. edges) of label i in the graph. Implement the method **features** of the class **EdgeLabelHistogramKernel** and **NodeLabelHistogramKernel** then run the  code block following it.\n",
    "\n",
    "\n",
    "**Hint 1**: You can use \"G.nodes()\" to get the list of nodes, and \"G.edges()\" to get the list of edges. \n",
    "\n",
    "**Hint 2**: You can use \"G.nodes[n]['labels']\" to access the label of node 'n' and \"G.edges[i, j]['labels']\" to access the label of edge (i,j).\n",
    "\n",
    "**Hint 3**: You can use the function np.bincount to get the counts of labels, either for edges or nodes. \n",
    "\n"
   ]
  },
  {
   "cell_type": "code",
   "execution_count": 9,
   "metadata": {},
   "outputs": [],
   "source": [
    "class NodeLabelHistogramKernel(FeatureVectorKernel):\n",
    "    \"\"\"\n",
    "    A vector kernel applied to the degree histogram of the graphs.\n",
    "    \"\"\"\n",
    "    def __init__(self, max_nb_labels=50):\n",
    "        super().__init__()\n",
    "        self.max_nb_labels = max_nb_labels\n",
    "\n",
    "    def features(self, X):\n",
    "        ### Takes a list of graphs X of size N and returns an array of shape Nx(max_nb_labels). \n",
    "        X_hist = np.array([np.bincount([G.nodes[n]['labels'][0] for n in G.nodes], minlength=self.max_nb_labels) for G in X])\n",
    "        return X_hist\n",
    "\n",
    "\n",
    "class EdgeLabelHistogramKernel(FeatureVectorKernel):\n",
    "    \"\"\"\n",
    "    A vector kernel applied to the edge label count of the graphs.\n",
    "    \"\"\"\n",
    "    def __init__(self, max_nb_labels=4):\n",
    "        super().__init__()\n",
    "        self.max_nb_labels = max_nb_labels\n",
    "\n",
    "    def features(self, X):\n",
    "        ### Takes a list of graphs X of size N and returns an array of shape Nx(max_nb_labels). \n",
    "        return np.array([np.bincount([G.edges[i, j]['labels'][0] for (i, j) in G.edges], minlength=self.max_nb_labels) for G in X])\n",
    "\n"
   ]
  },
  {
   "cell_type": "code",
   "execution_count": 10,
   "metadata": {},
   "outputs": [
    {
     "name": "stdout",
     "output_type": "stream",
     "text": [
      "Train AUC 0.834347436013017\n",
      "Test AUC 0.8210446149510278\n"
     ]
    }
   ],
   "source": [
    "from kernels.combine_kernels import SumKernel\n",
    "kernel = SumKernel([ EdgeLabelHistogramKernel(max_nb_labels=4).kernel,\n",
    "                        NodeLabelHistogramKernel(max_nb_labels=50).kernel],\n",
    "                       alphas=[1., 1.]).kernel\n",
    "\n",
    "classifier = KernelRR(lmbda=1e-4, kernel=kernel)\n",
    "\n",
    "\n",
    "### Compute predictions\n",
    "\n",
    "classifier.fit(train_graphs, train_labels)\n",
    "train_preds = classifier.predict(train_graphs)\n",
    "test_preds = classifier.predict(test_graphs)\n",
    "print(\"Train AUC {}\".format(metrics.roc_auc_score(train_labels, train_preds)))\n",
    "print(\"Test AUC {}\".format(metrics.roc_auc_score(test_labels, test_preds)))"
   ]
  },
  {
   "cell_type": "markdown",
   "metadata": {},
   "source": [
    "## II- Predicting using a walk kernel\n",
    "The WL kernel KWL(G,G′) is given by the number of co-occurrences between the two WL hash lists of graphs G and G′.\n",
    "\n",
    "The WL hash list of G contains one hash for each rooted subtree of G (up to a certain depth). It is computed recursively by choosing a root node, computing the hash of its neighbors, concatenating them and hashing the resulting string.\n",
    "\n",
    "Once we computed the hash lists of each graph in the dataset, the kernel matrix is obtained by computing the co-occurences of the hashes in each pair of hash lists. If done naively, this operation is very expensive: using a straightforward counting algorithm takes more than 30 minutes on the whole dataset, making it rather prohibitive.\n",
    "\n"
   ]
  },
  {
   "cell_type": "markdown",
   "metadata": {},
   "source": [
    "### a) Using a naive (non-optimized) implementation of the kernel\n",
    "Here, we compute predictions restrictes to N=10 training and test points since the implementation is not optimized.\n",
    "Implement the method **weisfeiler_lehman_subgraph_hashes** of the class **WLKernel** then run the code block that follows. \n"
   ]
  },
  {
   "cell_type": "code",
   "execution_count": null,
   "metadata": {},
   "outputs": [],
   "source": [
    "class WLKernel(Kernel):\n",
    "    \"\"\"\n",
    "    The Weisfeler-Lehman subraph kernel.\n",
    "    \"\"\"\n",
    "    def __init__(self, iterations=3, optimized=False):\n",
    "        super().__init__()\n",
    "        self.iterations = iterations\n",
    "        self.optimized = optimized\n",
    "\n",
    "    def weisfeiler_lehman_subgraph_hashes(self, G):\n",
    "        \"\"\"\n",
    "        Computes the WL subgraph hashes.\n",
    "        :param G: A networkx graph.\n",
    "        :return: A list of list of hashes (one list for each node).\n",
    "        \"\"\"\n",
    "        # Initialize labels\n",
    "        labels = {node: str(G.nodes[node]['labels']) for node in G.nodes()}\n",
    "\n",
    "        final_hashes = {node: list() for node in G.nodes()}\n",
    "\n",
    "        for _ in range(self.iterations):\n",
    "            new_labels = {}\n",
    "            for node in G.nodes():\n",
    "                \n",
    "                \n",
    "                # Compute new features\n",
    "                label_list = [str(G.edges[node,nbr]['labels']) + labels[nbr] for nbr in G.neighbors(node)]\n",
    "                label = labels[node] + \"\".join(sorted(label_list))\n",
    "\n",
    "                # Hash features\n",
    "                hashed_label = str(hash(label))\n",
    "\n",
    "                new_labels[node] = hashed_label\n",
    "                final_hashes[node].append(hashed_label)\n",
    "\n",
    "            labels = new_labels\n",
    "\n",
    "        return final_hashes\n",
    "\n",
    "    def kernel(self, X, Y):\n",
    "        # Input lists of graphs X and Y of len N and M\n",
    "\n",
    "        X_hash = [sorted(\n",
    "            [subgraph_hash for vertex_hash in self.weisfeiler_lehman_subgraph_hashes(G).values() for subgraph_hash in\n",
    "             vertex_hash]) for G in X]\n",
    "        Y_hash = [sorted(\n",
    "            [subgraph_hash for vertex_hash in self.weisfeiler_lehman_subgraph_hashes(G).values() for subgraph_hash in\n",
    "             vertex_hash]) for G in Y]\n",
    "        if self.optimized:\n",
    "            K = optimized_coocurrence_matrix(X_hash, Y_hash)\n",
    "        else:\n",
    "            K = cooccurrence_matrix(X_hash, Y_hash)\n",
    "\n",
    "        return K\n"
   ]
  },
  {
   "cell_type": "code",
   "execution_count": 5,
   "metadata": {},
   "outputs": [
    {
     "name": "stderr",
     "output_type": "stream",
     "text": [
      "/Users/MichaelArbel/Documents/Academia/INRIA/courses/mva-kernel-methods/source_kernel_course/Formation_continue/tutorials/tutorial_2/kernels/utils.py:38: VisibleDeprecationWarning: Creating an ndarray from ragged nested sequences (which is a list-or-tuple of lists-or-tuples-or ndarrays with different lengths or shapes) is deprecated. If you meant to do this, you must specify 'dtype=object' when creating the ndarray.\n",
      "  mesh1, mesh2 = np.meshgrid(np.array(array1), np.array(array2))\n"
     ]
    },
    {
     "name": "stdout",
     "output_type": "stream",
     "text": [
      "Train AUC 1.0\n",
      "Test AUC 0.8788156288156288\n",
      "Total time: 5.6033148765563965\n"
     ]
    }
   ],
   "source": [
    "import time\n",
    "from kernels.graph_kernels import WLKernel\n",
    "kernel = WLKernel(iterations=10, optimized=False).kernel\n",
    "\n",
    "classifier = KernelRR(lmbda=1e-4, kernel=kernel)\n",
    "\n",
    "N = 200\n",
    "### Compute predictions (restricting to N=10 points since the implementation is not optimized)\n",
    "start_time = time.time()\n",
    "classifier.fit(train_graphs[:N], train_labels[:N])\n",
    "train_preds = classifier.predict(train_graphs[:N])\n",
    "test_preds = classifier.predict(test_graphs[:N])\n",
    "print(\"Train AUC {}\".format(metrics.roc_auc_score(train_labels[:N], train_preds)))\n",
    "print(\"Test AUC {}\".format(metrics.roc_auc_score(test_labels[:N], test_preds)))\n",
    "print(\"Total time: {}\".format(time.time()-start_time))\n",
    "\n",
    "\n",
    "\n"
   ]
  },
  {
   "cell_type": "markdown",
   "metadata": {},
   "source": [
    "### b) Using an optimized implementation\n",
    "\n",
    "It is possible to optimize the computation of co-occurences, using dictionaries to avoid redundant comparisons. \n",
    "The high-level pseudo-code is given below (where SubgraphHashList(G) computes the list of WL hashes of graph G, and Count(hash,X[i]) counts the number of occurences of hash in the list X[i]). Implementing this algorithm efficiently leads to an end-to-end training and prediction time of 1 minute on the whole dataset.\n",
    "\n",
    "## Algorithm 1: Optimized Computation for WL Kernel\n",
    "\n",
    "**Input:**  \n",
    "- $( X, Y )$: List of graphs of length $( N, M)$.\n",
    "\n",
    "**Output:**  \n",
    "- $( K_{WL}(X, Y) )$: The WL kernel matrix of $( X )$ and $( Y )$.\n",
    "\n",
    "---\n",
    "\n",
    "1. Compute the list of WL hashes for each graph in $( X )$:\n",
    "   $\n",
    "   L_X = [\\text{SubgraphHashList}(G) \\text{ for } G \\in X]\n",
    "   $\n",
    "2. Compute the list of WL hashes for each graph in $( Y )$:\n",
    "   $\n",
    "   L_Y = [\\text{SubgraphHashList}(G') \\text{ for } G' \\in Y]\n",
    "   $\n",
    "3. Construct a dictionary mapping hashes to their occurrences in $( Y )$:\n",
    "   $\n",
    "   D_Y = \\{ \\text{hash} : [i \\text{ for } i = 1, \\dots, M \\text{ where hash} \\in Y[i]] \\}\n",
    "   $\n",
    "4. Initialize the kernel matrix by zeros.\n",
    "5. Compute the kernel matrix:\n",
    "   ```\n",
    "   for j = 1 to N do\n",
    "       for each hash in L_X[j] do\n",
    "           for each i in D_Y[hash] do\n",
    "               K[j, i] = K[j, i] + min(Count(hash, X[j]), Count(hash, Y[i]))\n",
    "   ```\n",
    "6. Return the kernel matrix $( K )$.\n",
    "\n",
    "\n",
    "\n",
    "\n",
    "\n",
    "After implementing the functions **create_hash_dict**, **get_hash_coocurrences** in the file **kernels/graph_kernels.py**, perform a second fit on restricted data for comparaison, by setting the option **optimized** to **True** when constructing an instance of **WLKernel**."
   ]
  },
  {
   "cell_type": "code",
   "execution_count": 6,
   "metadata": {},
   "outputs": [
    {
     "name": "stdout",
     "output_type": "stream",
     "text": [
      "Train AUC 1.0\n",
      "Test AUC 0.8788156288156288\n",
      "Total time: 0.785768985748291\n"
     ]
    }
   ],
   "source": [
    "import time\n",
    "from kernels.graph_kernels import WLKernel\n",
    "kernel = WLKernel(iterations=10, optimized=True).kernel\n",
    "\n",
    "\n",
    "classifier = KernelRR(lmbda=1e-4, kernel=kernel)\n",
    "\n",
    "N = 200\n",
    "### Compute predictions (restricting to N=10 points since the implementation is not optimized)\n",
    "start_time = time.time()\n",
    "classifier.fit(train_graphs[:N], train_labels[:N])\n",
    "train_preds = classifier.predict(train_graphs[:N])\n",
    "test_preds = classifier.predict(test_graphs[:N])\n",
    "print(\"Train AUC {}\".format(metrics.roc_auc_score(train_labels[:N], train_preds)))\n",
    "print(\"Test AUC {}\".format(metrics.roc_auc_score(test_labels[:N], test_preds)))\n",
    "print(\"Total time: {}\".format(time.time()-start_time))\n",
    "\n",
    "\n"
   ]
  },
  {
   "cell_type": "markdown",
   "metadata": {},
   "source": [
    "### c) Training on full data using optimized kernel"
   ]
  },
  {
   "cell_type": "code",
   "execution_count": 9,
   "metadata": {},
   "outputs": [
    {
     "name": "stdout",
     "output_type": "stream",
     "text": [
      "Train AUC 0.9998818251831878\n",
      "Test AUC 0.92239959150814\n",
      "Total time: 64.11056685447693\n"
     ]
    }
   ],
   "source": [
    "import time\n",
    "from kernels.graph_kernels import WLKernel\n",
    "kernel = WLKernel(iterations=10, optimized=True).kernel\n",
    "\n",
    "\n",
    "classifier = KernelRR(lmbda=1e-4, kernel=kernel)\n",
    "\n",
    "\n",
    "### Compute predictions (restricting to N=10 points since the implementation is not optimized)\n",
    "start_time = time.time()\n",
    "classifier.fit(train_graphs, train_labels)\n",
    "train_preds = classifier.predict(train_graphs)\n",
    "test_preds = classifier.predict(test_graphs)\n",
    "print(\"Train AUC {}\".format(metrics.roc_auc_score(train_labels, train_preds)))\n",
    "print(\"Test AUC {}\".format(metrics.roc_auc_score(test_labels, test_preds)))\n",
    "print(\"Total time: {}\".format(time.time()-start_time))\n",
    "\n",
    "\n"
   ]
  },
  {
   "cell_type": "markdown",
   "metadata": {},
   "source": [
    "## III- Combining multiple kernels"
   ]
  },
  {
   "cell_type": "code",
   "execution_count": 16,
   "metadata": {},
   "outputs": [
    {
     "name": "stdout",
     "output_type": "stream",
     "text": [
      "Train AUC 0.9998824966310105\n",
      "Test AUC 0.9228915707555608\n"
     ]
    }
   ],
   "source": [
    "from kernels.graph_kernels import WLKernel\n",
    "from kernels.feature_vector_kernels import DegreeHistogramKernel\n",
    "from kernels.combine_kernels import SumKernel\n",
    "\n",
    "kernel = SumKernel([DegreeHistogramKernel(max_degree=5).kernel,\n",
    "                        WLKernel(iterations=10, optimized=True).kernel],\n",
    "                       alphas=[1., 1]).kernel\n",
    "\n",
    "classifier = KernelRR(lmbda=1e-4, kernel=kernel)\n",
    "\n",
    "\n",
    "### Compute predictions\n",
    "classifier.fit(train_graphs, train_labels)\n",
    "train_preds = classifier.predict(train_graphs)\n",
    "test_preds = classifier.predict(test_graphs)\n",
    "print(\"Train AUC {}\".format(metrics.roc_auc_score(train_labels, train_preds)))\n",
    "print(\"Test AUC {}\".format(metrics.roc_auc_score(test_labels, test_preds)))\n",
    "\n",
    "\n",
    "\n"
   ]
  },
  {
   "cell_type": "code",
   "execution_count": null,
   "metadata": {},
   "outputs": [],
   "source": []
  }
 ],
 "metadata": {
  "kernelspec": {
   "display_name": "Python 3",
   "language": "python",
   "name": "python3"
  },
  "language_info": {
   "codemirror_mode": {
    "name": "ipython",
    "version": 3
   },
   "file_extension": ".py",
   "mimetype": "text/x-python",
   "name": "python",
   "nbconvert_exporter": "python",
   "pygments_lexer": "ipython3",
   "version": "3.8.8"
  }
 },
 "nbformat": 4,
 "nbformat_minor": 4
}
